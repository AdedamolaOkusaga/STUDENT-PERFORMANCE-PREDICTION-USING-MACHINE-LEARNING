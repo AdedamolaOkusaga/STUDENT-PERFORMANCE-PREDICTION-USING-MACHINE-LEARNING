{
 "cells": [
  {
   "cell_type": "code",
   "execution_count": 1,
   "id": "5bc946a2",
   "metadata": {},
   "outputs": [],
   "source": [
    "#import necessary libraries\n",
    "import numpy as np \n",
    "import pandas as pd\n",
    "import matplotlib.pyplot as plt\n",
    "import seaborn as sns\n",
    "from sklearn.impute import SimpleImputer\n",
    "from sklearn.model_selection import train_test_split\n",
    "from sklearn.preprocessing import StandardScaler\n",
    "from sklearn.tree import DecisionTreeClassifier\n",
    "from sklearn.ensemble import RandomForestClassifier"
   ]
  },
  {
   "cell_type": "code",
   "execution_count": 2,
   "id": "f6f8b0ac",
   "metadata": {},
   "outputs": [],
   "source": [
    "#load the dataset\n",
    "StudPer = pd.read_csv('student_exam_data.csv')"
   ]
  },
  {
   "cell_type": "code",
   "execution_count": 3,
   "id": "79f55d5f",
   "metadata": {},
   "outputs": [
    {
     "data": {
      "text/html": [
       "<div>\n",
       "<style scoped>\n",
       "    .dataframe tbody tr th:only-of-type {\n",
       "        vertical-align: middle;\n",
       "    }\n",
       "\n",
       "    .dataframe tbody tr th {\n",
       "        vertical-align: top;\n",
       "    }\n",
       "\n",
       "    .dataframe thead th {\n",
       "        text-align: right;\n",
       "    }\n",
       "</style>\n",
       "<table border=\"1\" class=\"dataframe\">\n",
       "  <thead>\n",
       "    <tr style=\"text-align: right;\">\n",
       "      <th></th>\n",
       "      <th>Study Hours</th>\n",
       "      <th>Previous Exam Score</th>\n",
       "      <th>Pass/Fail</th>\n",
       "    </tr>\n",
       "  </thead>\n",
       "  <tbody>\n",
       "    <tr>\n",
       "      <th>0</th>\n",
       "      <td>4.370861</td>\n",
       "      <td>81.889703</td>\n",
       "      <td>0</td>\n",
       "    </tr>\n",
       "    <tr>\n",
       "      <th>1</th>\n",
       "      <td>9.556429</td>\n",
       "      <td>72.165782</td>\n",
       "      <td>1</td>\n",
       "    </tr>\n",
       "    <tr>\n",
       "      <th>2</th>\n",
       "      <td>7.587945</td>\n",
       "      <td>58.571657</td>\n",
       "      <td>0</td>\n",
       "    </tr>\n",
       "    <tr>\n",
       "      <th>3</th>\n",
       "      <td>6.387926</td>\n",
       "      <td>88.827701</td>\n",
       "      <td>1</td>\n",
       "    </tr>\n",
       "    <tr>\n",
       "      <th>4</th>\n",
       "      <td>2.404168</td>\n",
       "      <td>81.083870</td>\n",
       "      <td>0</td>\n",
       "    </tr>\n",
       "  </tbody>\n",
       "</table>\n",
       "</div>"
      ],
      "text/plain": [
       "   Study Hours  Previous Exam Score  Pass/Fail\n",
       "0     4.370861            81.889703          0\n",
       "1     9.556429            72.165782          1\n",
       "2     7.587945            58.571657          0\n",
       "3     6.387926            88.827701          1\n",
       "4     2.404168            81.083870          0"
      ]
     },
     "execution_count": 3,
     "metadata": {},
     "output_type": "execute_result"
    }
   ],
   "source": [
    "#view the first 5 rows of the dataframe\n",
    "StudPer.head()"
   ]
  },
  {
   "cell_type": "code",
   "execution_count": 4,
   "id": "848d4e0e",
   "metadata": {},
   "outputs": [
    {
     "name": "stdout",
     "output_type": "stream",
     "text": [
      "<class 'pandas.core.frame.DataFrame'>\n",
      "RangeIndex: 500 entries, 0 to 499\n",
      "Data columns (total 3 columns):\n",
      " #   Column               Non-Null Count  Dtype  \n",
      "---  ------               --------------  -----  \n",
      " 0   Study Hours          500 non-null    float64\n",
      " 1   Previous Exam Score  500 non-null    float64\n",
      " 2   Pass/Fail            500 non-null    int64  \n",
      "dtypes: float64(2), int64(1)\n",
      "memory usage: 11.8 KB\n"
     ]
    }
   ],
   "source": [
    "#view the properties of the dataframe\n",
    "StudPer.info()"
   ]
  },
  {
   "cell_type": "code",
   "execution_count": 5,
   "id": "d2ebd225",
   "metadata": {},
   "outputs": [
    {
     "data": {
      "text/html": [
       "<div>\n",
       "<style scoped>\n",
       "    .dataframe tbody tr th:only-of-type {\n",
       "        vertical-align: middle;\n",
       "    }\n",
       "\n",
       "    .dataframe tbody tr th {\n",
       "        vertical-align: top;\n",
       "    }\n",
       "\n",
       "    .dataframe thead th {\n",
       "        text-align: right;\n",
       "    }\n",
       "</style>\n",
       "<table border=\"1\" class=\"dataframe\">\n",
       "  <thead>\n",
       "    <tr style=\"text-align: right;\">\n",
       "      <th></th>\n",
       "      <th>Study Hours</th>\n",
       "      <th>Previous Exam Score</th>\n",
       "      <th>Pass/Fail</th>\n",
       "    </tr>\n",
       "  </thead>\n",
       "  <tbody>\n",
       "    <tr>\n",
       "      <th>count</th>\n",
       "      <td>500.000000</td>\n",
       "      <td>500.000000</td>\n",
       "      <td>500.000000</td>\n",
       "    </tr>\n",
       "    <tr>\n",
       "      <th>mean</th>\n",
       "      <td>5.487055</td>\n",
       "      <td>68.917084</td>\n",
       "      <td>0.368000</td>\n",
       "    </tr>\n",
       "    <tr>\n",
       "      <th>std</th>\n",
       "      <td>2.688196</td>\n",
       "      <td>17.129607</td>\n",
       "      <td>0.482744</td>\n",
       "    </tr>\n",
       "    <tr>\n",
       "      <th>min</th>\n",
       "      <td>1.045554</td>\n",
       "      <td>40.277921</td>\n",
       "      <td>0.000000</td>\n",
       "    </tr>\n",
       "    <tr>\n",
       "      <th>25%</th>\n",
       "      <td>3.171517</td>\n",
       "      <td>53.745955</td>\n",
       "      <td>0.000000</td>\n",
       "    </tr>\n",
       "    <tr>\n",
       "      <th>50%</th>\n",
       "      <td>5.618474</td>\n",
       "      <td>68.309294</td>\n",
       "      <td>0.000000</td>\n",
       "    </tr>\n",
       "    <tr>\n",
       "      <th>75%</th>\n",
       "      <td>7.805124</td>\n",
       "      <td>83.580209</td>\n",
       "      <td>1.000000</td>\n",
       "    </tr>\n",
       "    <tr>\n",
       "      <th>max</th>\n",
       "      <td>9.936683</td>\n",
       "      <td>99.983060</td>\n",
       "      <td>1.000000</td>\n",
       "    </tr>\n",
       "  </tbody>\n",
       "</table>\n",
       "</div>"
      ],
      "text/plain": [
       "       Study Hours  Previous Exam Score   Pass/Fail\n",
       "count   500.000000           500.000000  500.000000\n",
       "mean      5.487055            68.917084    0.368000\n",
       "std       2.688196            17.129607    0.482744\n",
       "min       1.045554            40.277921    0.000000\n",
       "25%       3.171517            53.745955    0.000000\n",
       "50%       5.618474            68.309294    0.000000\n",
       "75%       7.805124            83.580209    1.000000\n",
       "max       9.936683            99.983060    1.000000"
      ]
     },
     "execution_count": 5,
     "metadata": {},
     "output_type": "execute_result"
    }
   ],
   "source": [
    "#view the statistical description of the columns in the dataframe\n",
    "StudPer.describe()"
   ]
  },
  {
   "cell_type": "code",
   "execution_count": 6,
   "id": "221f95da",
   "metadata": {
    "scrolled": true
   },
   "outputs": [
    {
     "data": {
      "text/plain": [
       "(500, 3)"
      ]
     },
     "execution_count": 6,
     "metadata": {},
     "output_type": "execute_result"
    }
   ],
   "source": [
    "#view the size of the dataframe\n",
    "StudPer.shape"
   ]
  },
  {
   "cell_type": "code",
   "execution_count": 36,
   "id": "f2893ae9",
   "metadata": {
    "scrolled": false
   },
   "outputs": [
    {
     "data": {
      "image/png": "[encoded data removed]",
      "text/plain": [
       "<Figure size 640x480 with 2 Axes>"
      ]
     },
     "metadata": {},
     "output_type": "display_data"
    }
   ],
   "source": [
    "# Compute the correlation matrix\n",
    "corr_matrix = StudPer.corr()\n",
    "\n",
    "# Plot the correlation matrix using a heatmap\n",
    "sns.heatmap(corr_matrix, annot=True, cmap='coolwarm')\n",
    "\n",
    "# Display the plot\n",
    "plt.show()"
   ]
  },
  {
   "cell_type": "code",
   "execution_count": 37,
   "id": "3741087d",
   "metadata": {},
   "outputs": [
    {
     "data": {
      "image/png": "[encoded data removed]",
      "text/plain": [
       "<Figure size 640x480 with 1 Axes>"
      ]
     },
     "metadata": {},
     "output_type": "display_data"
    }
   ],
   "source": [
    "# Create a scatterplot between 'Study Hours' and 'Pass/Fail'\n",
    "plt.scatter(StudPer['Study Hours'], StudPer['Pass/Fail'])\n",
    "plt.xlabel('Study Hours')\n",
    "plt.ylabel('Pass/Fail')\n",
    "plt.title('Scatterplot of Study Hours vs Pass/Fail')\n",
    "plt.show()"
   ]
  },
  {
   "cell_type": "code",
   "execution_count": 11,
   "id": "d526ec19",
   "metadata": {},
   "outputs": [],
   "source": [
    "#divide the dataframe into features(X) and class label(y)\n",
    "X = StudPer.drop('Pass/Fail', axis = 1)\n",
    "y = StudPer['Pass/Fail']"
   ]
  },
  {
   "cell_type": "code",
   "execution_count": 12,
   "id": "29de877b",
   "metadata": {},
   "outputs": [
    {
     "data": {
      "text/html": [
       "<div>\n",
       "<style scoped>\n",
       "    .dataframe tbody tr th:only-of-type {\n",
       "        vertical-align: middle;\n",
       "    }\n",
       "\n",
       "    .dataframe tbody tr th {\n",
       "        vertical-align: top;\n",
       "    }\n",
       "\n",
       "    .dataframe thead th {\n",
       "        text-align: right;\n",
       "    }\n",
       "</style>\n",
       "<table border=\"1\" class=\"dataframe\">\n",
       "  <thead>\n",
       "    <tr style=\"text-align: right;\">\n",
       "      <th></th>\n",
       "      <th>Study Hours</th>\n",
       "      <th>Previous Exam Score</th>\n",
       "    </tr>\n",
       "  </thead>\n",
       "  <tbody>\n",
       "    <tr>\n",
       "      <th>0</th>\n",
       "      <td>4.370861</td>\n",
       "      <td>81.889703</td>\n",
       "    </tr>\n",
       "    <tr>\n",
       "      <th>1</th>\n",
       "      <td>9.556429</td>\n",
       "      <td>72.165782</td>\n",
       "    </tr>\n",
       "    <tr>\n",
       "      <th>2</th>\n",
       "      <td>7.587945</td>\n",
       "      <td>58.571657</td>\n",
       "    </tr>\n",
       "    <tr>\n",
       "      <th>3</th>\n",
       "      <td>6.387926</td>\n",
       "      <td>88.827701</td>\n",
       "    </tr>\n",
       "    <tr>\n",
       "      <th>4</th>\n",
       "      <td>2.404168</td>\n",
       "      <td>81.083870</td>\n",
       "    </tr>\n",
       "    <tr>\n",
       "      <th>...</th>\n",
       "      <td>...</td>\n",
       "      <td>...</td>\n",
       "    </tr>\n",
       "    <tr>\n",
       "      <th>495</th>\n",
       "      <td>4.180170</td>\n",
       "      <td>45.494924</td>\n",
       "    </tr>\n",
       "    <tr>\n",
       "      <th>496</th>\n",
       "      <td>6.252905</td>\n",
       "      <td>95.038815</td>\n",
       "    </tr>\n",
       "    <tr>\n",
       "      <th>497</th>\n",
       "      <td>1.699612</td>\n",
       "      <td>48.209118</td>\n",
       "    </tr>\n",
       "    <tr>\n",
       "      <th>498</th>\n",
       "      <td>9.769553</td>\n",
       "      <td>97.014241</td>\n",
       "    </tr>\n",
       "    <tr>\n",
       "      <th>499</th>\n",
       "      <td>9.875897</td>\n",
       "      <td>66.760346</td>\n",
       "    </tr>\n",
       "  </tbody>\n",
       "</table>\n",
       "<p>500 rows × 2 columns</p>\n",
       "</div>"
      ],
      "text/plain": [
       "     Study Hours  Previous Exam Score\n",
       "0       4.370861            81.889703\n",
       "1       9.556429            72.165782\n",
       "2       7.587945            58.571657\n",
       "3       6.387926            88.827701\n",
       "4       2.404168            81.083870\n",
       "..           ...                  ...\n",
       "495     4.180170            45.494924\n",
       "496     6.252905            95.038815\n",
       "497     1.699612            48.209118\n",
       "498     9.769553            97.014241\n",
       "499     9.875897            66.760346\n",
       "\n",
       "[500 rows x 2 columns]"
      ]
     },
     "execution_count": 12,
     "metadata": {},
     "output_type": "execute_result"
    }
   ],
   "source": [
    "X"
   ]
  },
  {
   "cell_type": "code",
   "execution_count": 13,
   "id": "e1c1c957",
   "metadata": {},
   "outputs": [
    {
     "data": {
      "text/plain": [
       "0      0\n",
       "1      1\n",
       "2      0\n",
       "3      1\n",
       "4      0\n",
       "      ..\n",
       "495    0\n",
       "496    1\n",
       "497    0\n",
       "498    1\n",
       "499    1\n",
       "Name: Pass/Fail, Length: 500, dtype: int64"
      ]
     },
     "execution_count": 13,
     "metadata": {},
     "output_type": "execute_result"
    }
   ],
   "source": [
    "y"
   ]
  },
  {
   "cell_type": "code",
   "execution_count": 14,
   "id": "66f3911d",
   "metadata": {},
   "outputs": [],
   "source": [
    "#split the dataframe into train and test sets\n",
    "X_train, X_test, y_train, y_test = train_test_split(X, y, test_size= 0.3)"
   ]
  },
  {
   "cell_type": "code",
   "execution_count": 15,
   "id": "e58fe09a",
   "metadata": {},
   "outputs": [],
   "source": [
    "#standardize the train set\n",
    "sc = StandardScaler()\n",
    "X_train = sc.fit_transform(X_train)\n",
    "X_test = sc.transform(X_test)"
   ]
  },
  {
   "cell_type": "code",
   "execution_count": 16,
   "id": "f30636e8",
   "metadata": {
    "scrolled": true
   },
   "outputs": [
    {
     "data": {
      "text/plain": [
       "array([[ 7.46883002e-01, -1.64867877e-01],\n",
       "       [-6.18543441e-01, -8.30864693e-02],\n",
       "       [-1.42391154e-01, -3.86718125e-01],\n",
       "       [-1.16170838e+00,  1.49987946e+00],\n",
       "       [-1.18514663e+00,  7.50541219e-01],\n",
       "       [-2.64931916e-01, -1.04940147e+00],\n",
       "       [-7.61697876e-01, -1.27293788e-01],\n",
       "       [ 1.33137573e+00, -1.18255071e+00],\n",
       "       [ 1.16418912e+00,  9.12603804e-01],\n",
       "       [-4.43436956e-01, -4.05339535e-01],\n",
       "       [-1.25573669e-01, -1.48973103e+00],\n",
       "       [ 1.57114849e+00,  8.88733970e-02],\n",
       "       [-8.69033720e-01, -3.61344290e-02],\n",
       "       [ 1.13972878e-01,  9.73697286e-01],\n",
       "       [ 4.17637701e-01, -1.58547093e+00],\n",
       "       [-6.36164887e-01, -3.53353860e-01],\n",
       "       [ 9.81051943e-01, -7.10484604e-02],\n",
       "       [-1.56036886e+00,  1.84700348e+00],\n",
       "       [ 1.22468073e+00, -1.20687966e+00],\n",
       "       [-6.26754764e-01, -7.90734411e-01],\n",
       "       [-1.18522837e+00, -1.08348487e+00],\n",
       "       [-1.38456816e+00,  1.11539054e+00],\n",
       "       [-5.16364660e-01, -1.33300842e+00],\n",
       "       [-1.31122336e+00,  9.37776246e-01],\n",
       "       [-1.13948162e+00, -1.16548818e+00],\n",
       "       [-1.42886256e+00, -1.05165165e+00],\n",
       "       [ 1.04976660e+00,  5.30490530e-01],\n",
       "       [ 5.64021800e-01, -6.57890831e-01],\n",
       "       [-1.51705759e+00,  1.54509797e+00],\n",
       "       [-1.04044237e+00,  1.09802310e+00],\n",
       "       [-1.11254919e+00, -8.18045401e-01],\n",
       "       [-1.40790791e+00, -1.29717757e+00],\n",
       "       [ 1.50815125e+00,  2.28433038e-01],\n",
       "       [ 1.47339365e+00, -2.94567410e-02],\n",
       "       [-9.02010747e-01,  2.31981473e-01],\n",
       "       [ 9.13089193e-01,  1.33874252e+00],\n",
       "       [-5.92464053e-01,  7.57072921e-02],\n",
       "       [-1.56087529e-03, -1.01738131e+00],\n",
       "       [-5.58893335e-01,  6.92068834e-01],\n",
       "       [-6.31724624e-01,  4.18815901e-01],\n",
       "       [-1.69034696e+00, -1.52585120e+00],\n",
       "       [ 9.19915141e-01,  4.54722343e-01],\n",
       "       [ 7.45199910e-02, -1.54517124e+00],\n",
       "       [ 1.48496354e-01, -1.57578022e+00],\n",
       "       [ 4.86326001e-01,  4.63979159e-01],\n",
       "       [-1.46380493e+00,  4.35617062e-01],\n",
       "       [-7.69549475e-01,  9.61655745e-02],\n",
       "       [ 8.43307931e-01, -1.35434290e+00],\n",
       "       [ 1.55054282e+00,  1.75101064e-02],\n",
       "       [-1.49344245e+00,  1.84616951e+00],\n",
       "       [ 1.36191921e+00, -1.23095140e+00],\n",
       "       [-1.08741936e+00,  1.05820808e+00],\n",
       "       [-4.38729485e-01,  1.41499805e+00],\n",
       "       [-8.36878841e-01,  5.16585683e-01],\n",
       "       [-1.16751437e+00,  1.15337393e+00],\n",
       "       [ 1.47472111e-01,  1.16546830e+00],\n",
       "       [ 7.34549350e-01,  1.42662668e+00],\n",
       "       [ 3.23326568e-01,  1.68164586e+00],\n",
       "       [-1.09768658e+00, -1.49586874e+00],\n",
       "       [ 2.66387426e-01,  9.03194292e-01],\n",
       "       [ 5.31441553e-01, -3.96592928e-01],\n",
       "       [ 5.76820268e-02,  6.90216248e-01],\n",
       "       [-6.82802989e-01, -3.32308399e-01],\n",
       "       [-1.51883636e+00, -1.61064218e-01],\n",
       "       [ 1.65134211e+00, -7.33455358e-01],\n",
       "       [-4.05370461e-01,  3.11135717e-01],\n",
       "       [ 4.87758222e-01, -1.21809020e+00],\n",
       "       [-1.67542982e+00,  1.68089706e-01],\n",
       "       [-7.62344607e-01, -2.76169479e-01],\n",
       "       [-3.27928636e-01,  4.22260071e-01],\n",
       "       [-1.31715732e+00, -7.48828156e-01],\n",
       "       [ 1.58840668e+00,  1.68318245e+00],\n",
       "       [-8.15112774e-01,  3.63238700e-01],\n",
       "       [-7.58676210e-01, -8.74988300e-01],\n",
       "       [ 1.62774137e+00, -1.17387101e+00],\n",
       "       [ 3.59270393e-01, -4.35968497e-01],\n",
       "       [-6.48526585e-01, -1.03292479e+00],\n",
       "       [-1.60739193e+00, -1.06129125e+00],\n",
       "       [ 7.56765037e-01,  1.68066480e+00],\n",
       "       [-7.45603421e-01,  8.71078279e-01],\n",
       "       [ 1.36786344e+00,  7.04769137e-01],\n",
       "       [-1.58733188e+00,  4.04536423e-01],\n",
       "       [-1.40452930e+00, -3.20965774e-01],\n",
       "       [ 8.39360692e-01,  1.50677962e+00],\n",
       "       [-7.58066859e-01,  6.38187562e-01],\n",
       "       [-9.53838734e-01, -2.08037999e-01],\n",
       "       [ 4.29035168e-01,  1.81061550e+00],\n",
       "       [-7.48557328e-01, -1.23402058e+00],\n",
       "       [ 4.31731621e-01, -8.03197426e-01],\n",
       "       [ 1.22985523e+00, -6.11011122e-01],\n",
       "       [-1.30767345e+00,  1.42656897e-01],\n",
       "       [-9.94271292e-01,  1.38750706e+00],\n",
       "       [ 4.12944597e-01, -1.39077214e+00],\n",
       "       [ 5.60228306e-02,  1.40879404e+00],\n",
       "       [-1.67717857e+00, -4.54009153e-01],\n",
       "       [ 1.30625891e+00, -8.99688784e-01],\n",
       "       [ 9.17427698e-01, -2.59524865e-01],\n",
       "       [ 1.64849307e-01, -4.38101430e-01],\n",
       "       [ 1.50712495e+00, -7.89173706e-01],\n",
       "       [-1.12296426e+00,  1.79608479e+00],\n",
       "       [-8.60594652e-01, -5.23343306e-01],\n",
       "       [ 1.17067334e+00,  5.50236607e-01],\n",
       "       [ 1.43692384e+00,  5.50912225e-01],\n",
       "       [ 1.36428958e+00, -1.34938383e+00],\n",
       "       [ 1.25339359e-01,  4.17490719e-01],\n",
       "       [-2.86867270e-02, -9.11956407e-01],\n",
       "       [ 1.32110353e+00,  1.48097213e+00],\n",
       "       [-1.09268304e-01,  6.76093941e-01],\n",
       "       [ 6.05021287e-01, -7.20855336e-02],\n",
       "       [-4.93188638e-01,  4.93141964e-01],\n",
       "       [ 3.81290408e-01,  1.80319294e+00],\n",
       "       [ 1.70619564e-02, -7.67974926e-01],\n",
       "       [ 1.38114919e+00, -2.59160385e-01],\n",
       "       [ 4.42945975e-01, -6.76106126e-01],\n",
       "       [-4.44556918e-01,  7.97718564e-01],\n",
       "       [-1.39837440e+00, -5.17722752e-01],\n",
       "       [-1.42227920e-02, -1.12809433e+00],\n",
       "       [ 1.62990535e+00,  2.91948243e-01],\n",
       "       [-6.32870162e-01, -1.10619211e+00],\n",
       "       [-7.96032573e-01, -1.25693768e+00],\n",
       "       [ 1.33769256e+00,  1.28370559e-01],\n",
       "       [-1.05035393e+00,  1.37247883e+00],\n",
       "       [ 8.66922313e-01,  1.27814415e+00],\n",
       "       [ 1.23955300e+00,  1.58003244e+00],\n",
       "       [-7.65186245e-01, -2.56064288e-01],\n",
       "       [-9.56121190e-01,  3.34896646e-01],\n",
       "       [ 1.18532748e+00,  1.55886321e+00],\n",
       "       [ 8.69021201e-02, -1.11888541e+00],\n",
       "       [-1.67271573e+00,  6.76563916e-01],\n",
       "       [-8.93560446e-01, -1.20655776e+00],\n",
       "       [-1.65769068e+00,  1.49535208e+00],\n",
       "       [-4.72273858e-01,  1.30339579e+00],\n",
       "       [-4.67456975e-01, -4.03850120e-01],\n",
       "       [ 1.41040955e+00, -2.37397241e-01],\n",
       "       [ 1.56217513e+00,  2.54625402e-01],\n",
       "       [-2.43544599e-01,  1.72123531e+00],\n",
       "       [ 5.22839226e-01,  3.01028165e-01],\n",
       "       [ 8.99998899e-01, -1.13808424e+00],\n",
       "       [ 1.73143130e-01,  1.13445735e+00],\n",
       "       [ 9.68826971e-01,  1.39595188e+00],\n",
       "       [ 1.25164996e-01, -2.46640710e-01],\n",
       "       [-2.60007533e-01,  1.49384300e+00],\n",
       "       [ 8.29995157e-01, -1.30540106e+00],\n",
       "       [-1.05221165e+00, -3.94247272e-01],\n",
       "       [-1.22929621e+00, -1.16519311e+00],\n",
       "       [-1.03719527e+00, -1.97575139e-01],\n",
       "       [ 1.30327878e+00,  1.22254556e+00],\n",
       "       [-3.82717651e-02,  1.15493658e+00],\n",
       "       [-5.04838019e-01, -1.60361705e+00],\n",
       "       [ 2.63182879e-01, -2.87232677e-01],\n",
       "       [ 7.54084876e-01,  3.50259979e-01],\n",
       "       [ 9.91588581e-01, -8.49418601e-01],\n",
       "       [ 7.46423255e-01, -6.40837954e-01],\n",
       "       [ 1.14945300e+00,  8.60281403e-01],\n",
       "       [ 1.10731752e+00,  1.62167920e+00],\n",
       "       [-6.00033523e-01,  1.67691565e+00],\n",
       "       [-4.81533678e-01, -7.08939631e-01],\n",
       "       [-1.09233336e+00, -1.56208893e+00],\n",
       "       [ 4.46833469e-01, -1.20199330e+00],\n",
       "       [ 1.29293851e+00, -1.20492247e+00],\n",
       "       [-1.38233927e+00,  5.66241253e-01],\n",
       "       [ 1.32302877e+00, -9.19328435e-01],\n",
       "       [ 6.30989101e-01,  4.37587014e-01],\n",
       "       [-4.99034529e-01,  7.39446205e-02],\n",
       "       [ 1.30240289e+00,  7.82918649e-01],\n",
       "       [-1.46296414e+00,  1.60010826e+00],\n",
       "       [ 9.03301308e-01,  1.50778405e-01],\n",
       "       [ 6.00865401e-01, -2.18951028e-01],\n",
       "       [ 7.77316079e-01,  1.15515025e+00],\n",
       "       [-2.99263485e-01,  8.51068868e-01],\n",
       "       [ 8.14507432e-01, -7.92872301e-01],\n",
       "       [ 7.03344855e-01,  5.96487129e-01],\n",
       "       [ 1.45801710e-01,  1.01573777e+00],\n",
       "       [-8.87004679e-01,  1.30237660e+00],\n",
       "       [ 1.30932076e+00, -9.46453448e-01],\n",
       "       [ 4.27446976e-01,  2.84463324e-01],\n",
       "       [-1.31560095e+00, -1.36386181e+00],\n",
       "       [-7.23802867e-01,  1.75230183e+00],\n",
       "       [ 1.07145216e+00,  1.55694143e+00],\n",
       "       [ 4.32756141e-01,  1.41390401e+00],\n",
       "       [ 9.68521694e-03, -1.34312335e+00],\n",
       "       [-1.31343674e+00, -8.43013555e-01],\n",
       "       [-1.11366374e+00, -3.30618575e-01],\n",
       "       [ 2.41272795e-01,  6.81924477e-01],\n",
       "       [ 1.09476048e+00, -1.17567708e+00],\n",
       "       [ 1.46075709e+00,  1.75074232e+00],\n",
       "       [ 1.51904471e+00, -5.96060551e-01],\n",
       "       [-1.32121731e+00, -7.47575169e-01],\n",
       "       [-1.16613357e+00, -4.72321071e-01],\n",
       "       [ 1.03164162e+00,  1.31861758e+00],\n",
       "       [-1.57571762e+00, -9.99355618e-01],\n",
       "       [-7.94281155e-01, -9.06630624e-01],\n",
       "       [ 8.16020750e-01,  1.73513360e+00],\n",
       "       [ 1.43224998e+00,  1.50521975e+00],\n",
       "       [-1.68273871e+00,  1.82271666e+00],\n",
       "       [-4.03226152e-01, -2.57164093e-01],\n",
       "       [ 1.54698430e+00, -6.40616009e-01],\n",
       "       [-1.46730775e+00, -1.59010720e+00],\n",
       "       [-1.37001184e+00, -5.22378442e-01],\n",
       "       [ 4.46401123e-01,  4.76494656e-01],\n",
       "       [-1.38288846e+00, -7.85850459e-01],\n",
       "       [-8.94248366e-01, -9.97681032e-01],\n",
       "       [ 5.89190960e-02,  4.41816675e-01],\n",
       "       [-2.66400172e-01, -3.58828260e-01],\n",
       "       [-1.39643584e+00, -1.42112711e+00],\n",
       "       [ 1.47261977e+00,  3.29404529e-01],\n",
       "       [ 6.65122965e-01,  8.74558061e-01],\n",
       "       [-1.37119418e+00,  1.91879327e-01],\n",
       "       [-4.77762391e-02, -1.60871118e+00],\n",
       "       [ 1.35781133e+00,  1.55733886e+00],\n",
       "       [-1.62405907e+00, -1.52632027e+00],\n",
       "       [ 8.95671726e-01,  1.61953575e+00],\n",
       "       [-1.24115065e+00, -3.16755995e-01],\n",
       "       [ 1.32683967e+00, -1.60281120e-01],\n",
       "       [-7.61795075e-01, -4.23202123e-01],\n",
       "       [ 4.66255506e-01, -6.24442520e-02],\n",
       "       [-1.04243014e-02,  1.20664151e+00],\n",
       "       [-7.73837631e-01, -6.98746130e-01],\n",
       "       [-1.37236232e+00, -3.43387605e-01],\n",
       "       [-3.63338596e-01, -1.13250171e+00],\n",
       "       [-1.47474430e+00, -9.34115751e-01],\n",
       "       [-1.39539480e+00, -4.40384682e-01],\n",
       "       [-9.41414815e-01,  5.17030148e-01],\n",
       "       [-4.53104324e-01,  1.26159807e+00],\n",
       "       [ 1.62845199e+00, -8.80273992e-02],\n",
       "       [-2.17520251e-01, -7.10927363e-01],\n",
       "       [ 1.00481215e+00, -1.17993645e-01],\n",
       "       [-4.95559275e-01, -4.53080408e-01],\n",
       "       [ 4.86507428e-02,  7.04321308e-01],\n",
       "       [-1.07634819e+00,  4.18590121e-01],\n",
       "       [ 1.17702038e+00,  5.38047368e-01],\n",
       "       [ 1.50778807e+00,  5.37734429e-01],\n",
       "       [ 3.98507218e-01,  1.78784387e+00],\n",
       "       [ 4.25079402e-01, -1.07983517e+00],\n",
       "       [-2.91844558e-01,  9.35906200e-01],\n",
       "       [-4.08776192e-01,  1.64663209e+00],\n",
       "       [-3.15508515e-01,  1.35108951e+00],\n",
       "       [-1.41399902e+00, -1.18395385e+00],\n",
       "       [ 5.82420559e-01, -1.04570006e+00],\n",
       "       [ 3.12430521e-01,  1.42470546e+00],\n",
       "       [ 8.11269246e-02,  1.04828311e+00],\n",
       "       [-6.11831715e-01, -8.11150558e-01],\n",
       "       [ 1.35440955e+00, -1.01565062e+00],\n",
       "       [-6.57490415e-01, -1.25581521e+00],\n",
       "       [-1.63503762e+00,  6.59888386e-01],\n",
       "       [ 1.48170072e+00, -1.27824578e+00],\n",
       "       [ 4.07189360e-01,  4.36695763e-01],\n",
       "       [ 1.88312493e-01, -4.40485532e-01],\n",
       "       [ 1.02488710e+00, -1.36751373e+00],\n",
       "       [ 3.45117897e-01,  1.20076228e+00],\n",
       "       [-3.23082305e-01, -9.29921324e-01],\n",
       "       [-1.12691106e+00, -1.02932259e+00],\n",
       "       [ 8.54502908e-01, -6.54276460e-02],\n",
       "       [ 2.18082196e-01,  1.48526067e+00],\n",
       "       [-1.55988635e+00,  7.63437095e-01],\n",
       "       [-8.39720100e-01,  1.60990292e+00],\n",
       "       [ 4.19182421e-01, -4.80612383e-01],\n",
       "       [ 1.32648212e+00,  3.87002437e-01],\n",
       "       [-1.68244585e-01,  1.29008192e+00],\n",
       "       [ 8.64463244e-01, -1.01581939e+00],\n",
       "       [ 1.57955191e+00, -3.29425196e-01],\n",
       "       [ 9.47126327e-01, -8.33361444e-03],\n",
       "       [-1.33704972e+00, -1.83696416e-01],\n",
       "       [ 2.36427386e-01, -1.42389381e+00],\n",
       "       [ 1.57310160e+00,  1.63608564e+00],\n",
       "       [ 2.71339804e-01,  3.51745166e-03],\n",
       "       [ 1.29251041e+00, -1.11247941e+00],\n",
       "       [ 1.41996470e+00, -1.05443264e+00],\n",
       "       [-3.94867521e-01,  1.21671886e+00],\n",
       "       [-1.61054018e+00, -1.11603184e+00],\n",
       "       [-5.64904737e-01, -1.25132166e+00],\n",
       "       [ 1.62655312e+00, -1.38421264e-01],\n",
       "       [ 2.16228483e-02, -1.37287159e+00],\n",
       "       [ 3.58817473e-02,  1.62743485e+00],\n",
       "       [-1.45301627e+00,  7.70435894e-01],\n",
       "       [-1.49850319e+00, -4.99905068e-01],\n",
       "       [ 1.04640142e+00, -1.55952811e+00],\n",
       "       [-1.73426236e-01, -1.28026122e+00],\n",
       "       [ 9.62181294e-01,  5.74873289e-02],\n",
       "       [ 6.45001644e-01,  2.19176133e-01],\n",
       "       [-1.18372862e+00, -1.46234724e+00],\n",
       "       [-2.62752289e-01, -3.06216640e-01],\n",
       "       [-1.12659774e+00, -2.53134668e-01],\n",
       "       [ 2.64156724e-01,  1.56753139e+00],\n",
       "       [ 1.20318800e+00,  9.70926643e-01],\n",
       "       [ 1.04074531e+00, -9.29613776e-01],\n",
       "       [ 7.66887492e-01, -5.67433023e-01],\n",
       "       [ 1.38943845e-01,  1.72972332e-01],\n",
       "       [-1.35953188e-01,  3.94567275e-01],\n",
       "       [ 1.11700984e+00, -1.11776101e+00],\n",
       "       [ 8.35959208e-01, -1.16253364e+00],\n",
       "       [-9.46293033e-01,  1.87738592e-01],\n",
       "       [-1.42465785e+00,  1.58574752e+00],\n",
       "       [-1.69675420e+00, -7.60233972e-01],\n",
       "       [ 1.11930637e+00,  1.40096936e+00],\n",
       "       [ 1.63155546e-01, -1.47406496e+00],\n",
       "       [ 5.65319513e-01,  1.02760341e+00],\n",
       "       [-1.06888963e-01,  3.84719640e-01],\n",
       "       [ 6.68688568e-01, -8.02983955e-01],\n",
       "       [ 4.73657549e-01, -1.12162624e-01],\n",
       "       [-6.59960232e-01,  5.70233660e-01],\n",
       "       [-1.43820976e+00,  3.70416401e-01],\n",
       "       [ 1.18881573e+00,  9.79671601e-01],\n",
       "       [-1.66512750e+00, -1.15992075e+00],\n",
       "       [-1.13527871e-01, -1.12112071e+00],\n",
       "       [ 1.54791544e+00, -1.58420405e+00],\n",
       "       [ 1.47680384e+00, -2.46951077e-01],\n",
       "       [ 1.78575804e-01,  6.81360528e-01],\n",
       "       [-1.39383236e+00,  6.07463582e-01],\n",
       "       [-7.31913630e-01, -1.51661656e+00],\n",
       "       [ 1.64147664e+00, -5.59724593e-01],\n",
       "       [-7.42793301e-01, -3.18242318e-02],\n",
       "       [ 1.08703320e+00,  3.93337012e-01],\n",
       "       [-1.66152446e+00, -8.39016469e-01],\n",
       "       [ 1.19533265e+00, -6.24970506e-01],\n",
       "       [-4.41022657e-01, -7.70215621e-01],\n",
       "       [-6.39830090e-01, -4.78287951e-01],\n",
       "       [ 1.58371532e+00, -1.16373077e+00],\n",
       "       [ 1.00981139e+00, -1.44015995e+00],\n",
       "       [-8.73258293e-03, -1.41908901e+00],\n",
       "       [ 9.79781402e-01, -1.07769294e+00],\n",
       "       [-4.44311223e-01,  1.09348042e-01],\n",
       "       [-6.81543852e-01,  1.32984097e+00],\n",
       "       [-1.57587466e+00, -1.83152214e-01],\n",
       "       [ 1.00916358e+00, -1.02753570e+00],\n",
       "       [ 1.25959095e+00, -1.53691888e+00],\n",
       "       [ 1.54859706e+00,  1.57992524e+00],\n",
       "       [-6.29230375e-01, -1.74373644e-01],\n",
       "       [-5.30404499e-01,  4.90211702e-01],\n",
       "       [ 1.63074367e+00, -4.31394042e-01],\n",
       "       [-5.69699015e-01,  2.14442407e-01],\n",
       "       [-1.60846512e-01,  1.87313134e-01],\n",
       "       [-2.50006348e-01,  1.81328824e+00],\n",
       "       [ 2.88683022e-01, -6.53256668e-01],\n",
       "       [ 1.47014133e+00,  2.83970346e-01],\n",
       "       [-8.65811814e-01, -4.77263556e-01],\n",
       "       [ 3.97125650e-01,  7.92411273e-01],\n",
       "       [-1.28328843e+00, -1.59109248e+00],\n",
       "       [-3.81663457e-01,  1.13882055e+00],\n",
       "       [ 1.35237906e-01, -1.06444531e-01],\n",
       "       [ 9.83107342e-01,  5.97445701e-01],\n",
       "       [-1.34093212e+00,  4.72716744e-02],\n",
       "       [ 4.33183012e-01,  4.73191929e-01],\n",
       "       [-4.03889601e-02,  1.01729307e-02],\n",
       "       [ 6.48343101e-01,  1.02357397e+00],\n",
       "       [ 3.41336373e-01, -1.43209126e+00],\n",
       "       [ 2.29526209e-01, -2.16571246e-01],\n",
       "       [ 1.49640557e+00, -1.61608302e+00],\n",
       "       [ 6.81697213e-01,  1.37450947e+00],\n",
       "       [ 9.29162723e-01,  3.53886498e-02]])"
      ]
     },
     "execution_count": 16,
     "metadata": {},
     "output_type": "execute_result"
    }
   ],
   "source": [
    "X_train"
   ]
  },
  {
   "cell_type": "code",
   "execution_count": 17,
   "id": "3a8ed3df",
   "metadata": {
    "scrolled": false
   },
   "outputs": [
    {
     "data": {
      "text/plain": [
       "array([[ 1.44051517e+00, -9.34661430e-01],\n",
       "       [-1.44801237e+00,  1.29208199e+00],\n",
       "       [ 2.88801856e-02, -6.94313343e-01],\n",
       "       [-1.04970415e+00, -1.55360331e+00],\n",
       "       [-5.24624611e-01,  5.70505421e-01],\n",
       "       [-1.63149930e+00,  1.21375372e+00],\n",
       "       [-5.51072374e-02,  9.63790738e-01],\n",
       "       [-3.96644725e-01,  8.18506861e-01],\n",
       "       [-1.23915056e+00, -7.81842345e-01],\n",
       "       [-3.98364227e-01,  1.06948109e+00],\n",
       "       [-6.94203672e-01, -5.04310890e-01],\n",
       "       [-1.59209666e+00,  1.53639835e+00],\n",
       "       [-1.08177972e+00, -1.09028392e+00],\n",
       "       [ 1.25992627e+00, -1.28900666e+00],\n",
       "       [-4.67685162e-01,  9.48620039e-01],\n",
       "       [-9.09849053e-01,  1.61044091e+00],\n",
       "       [ 3.70408582e-01, -1.12192095e+00],\n",
       "       [ 4.63310587e-01, -9.84880883e-01],\n",
       "       [ 6.99733553e-01, -4.29241466e-01],\n",
       "       [-6.11098396e-01,  1.26300154e+00],\n",
       "       [-2.22190448e-01, -1.20101082e+00],\n",
       "       [ 4.38483351e-01, -1.35490094e+00],\n",
       "       [-7.18898185e-01,  1.23011537e+00],\n",
       "       [ 7.07923980e-01, -1.63843710e+00],\n",
       "       [-4.45469679e-01,  6.33530719e-01],\n",
       "       [ 1.31105747e+00,  1.17722820e+00],\n",
       "       [-4.57767508e-01,  1.25991879e+00],\n",
       "       [-1.32933601e+00, -7.48774968e-01],\n",
       "       [ 6.79612525e-01, -1.24108477e+00],\n",
       "       [-1.56062887e+00,  9.97856050e-01],\n",
       "       [ 3.51962110e-01,  4.30399040e-01],\n",
       "       [ 1.45880763e+00,  5.23416166e-01],\n",
       "       [ 8.46725033e-01, -3.75140420e-01],\n",
       "       [ 1.29460405e+00,  2.47885789e-01],\n",
       "       [-1.69645065e-01,  1.15339318e+00],\n",
       "       [ 6.27744181e-01, -1.26114990e+00],\n",
       "       [ 6.44048943e-01,  1.05326857e+00],\n",
       "       [-1.43091665e+00,  4.43819798e-01],\n",
       "       [-1.42638544e+00, -6.92036596e-01],\n",
       "       [ 3.73265152e-01, -1.98261443e-01],\n",
       "       [-1.42875018e+00, -1.47266788e+00],\n",
       "       [-1.56763541e+00,  9.18591615e-01],\n",
       "       [-1.23630301e+00, -2.76875749e-01],\n",
       "       [ 1.90787933e-02,  1.14594447e+00],\n",
       "       [ 4.61996865e-01,  2.16114263e-01],\n",
       "       [ 5.34761118e-01,  1.19013090e+00],\n",
       "       [-1.13598619e+00,  1.85699154e+00],\n",
       "       [ 1.57210453e+00,  1.72465802e-01],\n",
       "       [ 1.52221929e+00,  2.32996855e-01],\n",
       "       [ 1.64300611e+00,  8.82392751e-01],\n",
       "       [ 7.96625689e-01,  3.47138532e-01],\n",
       "       [ 1.01882091e-01, -8.21403496e-01],\n",
       "       [ 5.14803165e-01,  1.64139233e+00],\n",
       "       [-1.59736247e+00, -8.51556389e-01],\n",
       "       [-1.36441195e+00, -9.24467742e-01],\n",
       "       [ 1.50594041e+00, -7.13083167e-01],\n",
       "       [-1.94084600e-01, -1.22730132e-01],\n",
       "       [-1.53944208e+00,  1.11740692e+00],\n",
       "       [-1.16891487e+00,  7.39200670e-01],\n",
       "       [ 4.88880119e-01,  8.82342297e-01],\n",
       "       [ 6.70853861e-01, -3.81730095e-01],\n",
       "       [-1.30030940e+00,  1.69657871e+00],\n",
       "       [-1.08160502e+00, -6.82122280e-01],\n",
       "       [ 1.31874513e+00,  3.15693927e-01],\n",
       "       [ 1.02909221e+00, -1.26609283e+00],\n",
       "       [ 2.12142584e-01, -1.01809216e+00],\n",
       "       [ 1.22164352e+00,  1.23461139e+00],\n",
       "       [ 6.61741511e-01, -6.98176409e-01],\n",
       "       [ 1.50195338e+00,  2.96352115e-01],\n",
       "       [-1.02821963e-02,  7.30768795e-01],\n",
       "       [ 1.54365626e+00, -1.10939692e+00],\n",
       "       [-1.34825425e+00, -1.51114914e+00],\n",
       "       [-1.62799234e+00, -1.21680646e+00],\n",
       "       [-6.11333488e-01,  5.24247955e-01],\n",
       "       [ 8.67291668e-01, -3.79311968e-01],\n",
       "       [ 4.27592484e-02,  9.58545652e-01],\n",
       "       [-1.65215291e+00, -7.03665528e-01],\n",
       "       [-1.58889507e+00,  1.47343940e+00],\n",
       "       [ 1.34020033e+00,  8.58000346e-02],\n",
       "       [ 1.35451574e+00, -7.43433547e-01],\n",
       "       [-8.74324908e-01, -6.62059714e-02],\n",
       "       [ 1.02052995e+00, -8.00519144e-01],\n",
       "       [ 1.07396179e+00,  1.22322759e-01],\n",
       "       [ 6.85815754e-01,  8.94520587e-01],\n",
       "       [ 1.59334551e+00,  9.32193242e-01],\n",
       "       [ 1.57320675e+00, -1.85549321e-01],\n",
       "       [ 3.15001166e-01,  1.20390266e+00],\n",
       "       [-4.47198912e-02,  1.82659364e-01],\n",
       "       [-1.40480237e+00,  1.48757780e+00],\n",
       "       [ 4.43215167e-02,  2.16212035e-01],\n",
       "       [-4.43558671e-02, -3.08860618e-01],\n",
       "       [ 1.55870882e+00,  1.04650738e+00],\n",
       "       [ 3.87778944e-01,  7.85546235e-01],\n",
       "       [-1.55800113e+00,  9.59041383e-02],\n",
       "       [-1.24783705e+00,  1.38555132e+00],\n",
       "       [ 1.05842010e+00, -2.99663255e-02],\n",
       "       [ 7.58795139e-01, -1.38822352e+00],\n",
       "       [-5.68411209e-01,  2.51715426e-01],\n",
       "       [ 1.02582578e+00,  1.66396233e+00],\n",
       "       [-9.61164256e-01,  1.48987724e+00],\n",
       "       [ 1.05573402e+00,  3.53190915e-01],\n",
       "       [ 3.59718257e-01,  4.32289787e-01],\n",
       "       [-1.69519341e+00, -2.61775613e-01],\n",
       "       [-2.26193215e-01,  1.80473508e+00],\n",
       "       [-7.20189676e-01, -6.20340676e-01],\n",
       "       [-9.08532538e-01,  6.14199863e-01],\n",
       "       [-1.45045843e+00, -1.17410636e+00],\n",
       "       [ 2.88480752e-01,  1.67280591e+00],\n",
       "       [-6.19378714e-01,  1.59652843e+00],\n",
       "       [ 7.86893226e-01,  1.57646079e+00],\n",
       "       [ 1.21122979e+00, -4.19058221e-02],\n",
       "       [ 1.25947667e+00,  6.94029209e-01],\n",
       "       [ 6.44813242e-01,  1.67809927e-01],\n",
       "       [ 8.98971438e-01,  1.49543282e+00],\n",
       "       [-1.47264340e+00, -1.56553354e+00],\n",
       "       [ 4.95649253e-01,  1.79357539e-03],\n",
       "       [ 5.18465891e-01, -9.17374431e-01],\n",
       "       [ 6.66875826e-01,  1.42509900e+00],\n",
       "       [ 6.45402039e-02,  1.19251561e+00],\n",
       "       [-3.57075587e-02,  4.74596356e-01],\n",
       "       [-1.46124928e+00,  1.52132235e+00],\n",
       "       [ 6.47398982e-01,  7.05443782e-01],\n",
       "       [-2.76180348e-01, -1.03868281e+00],\n",
       "       [-1.32052736e+00, -1.03511495e+00],\n",
       "       [-1.22284612e+00,  4.06683682e-01],\n",
       "       [ 1.02258176e+00, -1.00654260e+00],\n",
       "       [-1.30859231e+00, -1.16705098e+00],\n",
       "       [ 1.55188977e+00,  1.52944867e+00],\n",
       "       [-4.59405955e-01,  1.11193539e-01],\n",
       "       [-7.26905610e-01, -1.12633987e+00],\n",
       "       [ 4.72642497e-01, -2.13110632e-01],\n",
       "       [ 2.93839954e-01, -1.45667825e+00],\n",
       "       [-7.15993570e-01, -1.24408124e+00],\n",
       "       [-1.64414561e+00,  5.00030213e-01],\n",
       "       [-1.53875420e+00,  8.29602982e-01],\n",
       "       [-1.55648359e+00,  1.38279474e+00],\n",
       "       [ 1.18354568e-01,  3.69615102e-01],\n",
       "       [-5.58002645e-01,  1.21541393e+00],\n",
       "       [ 5.23562224e-01, -4.83228351e-01],\n",
       "       [ 1.38665253e+00,  9.71412947e-01],\n",
       "       [-9.82470751e-01,  3.30430412e-01],\n",
       "       [ 2.45937057e-01, -1.01681126e+00],\n",
       "       [-5.07483708e-01, -8.65740575e-01],\n",
       "       [-1.47883645e+00,  1.66870352e+00],\n",
       "       [ 1.34492776e+00, -1.56150853e+00],\n",
       "       [ 1.67719053e-01, -6.71227860e-01],\n",
       "       [-9.38490017e-01,  1.13641466e-01],\n",
       "       [-1.62776059e+00, -9.79256017e-01],\n",
       "       [ 8.30863836e-01, -1.60903622e+00],\n",
       "       [-1.52309132e+00, -1.07060584e+00]])"
      ]
     },
     "execution_count": 17,
     "metadata": {},
     "output_type": "execute_result"
    }
   ],
   "source": [
    "X_test"
   ]
  },
  {
   "cell_type": "code",
   "execution_count": 19,
   "id": "d15464dd",
   "metadata": {},
   "outputs": [
    {
     "data": {
      "text/plain": [
       "0    224\n",
       "1    126\n",
       "Name: Pass/Fail, dtype: int64"
      ]
     },
     "execution_count": 19,
     "metadata": {},
     "output_type": "execute_result"
    }
   ],
   "source": [
    "#view the distribution of class labels in the dataframe\n",
    "y_train.value_counts()"
   ]
  },
  {
   "cell_type": "code",
   "execution_count": 21,
   "id": "c106c984",
   "metadata": {},
   "outputs": [],
   "source": [
    "#apply SMOTE on the train set to deal with the class imbalance\n",
    "from imblearn.over_sampling import SMOTE\n",
    "smote = SMOTE()\n",
    "X_train, y_train = smote.fit_resample(X_train, y_train)"
   ]
  },
  {
   "cell_type": "code",
   "execution_count": 22,
   "id": "7924737c",
   "metadata": {},
   "outputs": [
    {
     "data": {
      "text/plain": [
       "1    224\n",
       "0    224\n",
       "Name: Pass/Fail, dtype: int64"
      ]
     },
     "execution_count": 22,
     "metadata": {},
     "output_type": "execute_result"
    }
   ],
   "source": [
    "y_train.value_counts()"
   ]
  },
  {
   "cell_type": "code",
   "execution_count": 24,
   "id": "1911d14d",
   "metadata": {},
   "outputs": [],
   "source": [
    "#initiate the classifier\n",
    "DTmodel = DecisionTreeClassifier()"
   ]
  },
  {
   "cell_type": "code",
   "execution_count": 25,
   "id": "bee22c76",
   "metadata": {},
   "outputs": [
    {
     "data": {
      "text/html": [
       "<style>#sk-container-id-1 {color: black;background-color: white;}#sk-container-id-1 pre{padding: 0;}#sk-container-id-1 div.sk-toggleable {background-color: white;}#sk-container-id-1 label.sk-toggleable__label {cursor: pointer;display: block;width: 100%;margin-bottom: 0;padding: 0.3em;box-sizing: border-box;text-align: center;}#sk-container-id-1 label.sk-toggleable__label-arrow:before {content: \"▸\";float: left;margin-right: 0.25em;color: #696969;}#sk-container-id-1 label.sk-toggleable__label-arrow:hover:before {color: black;}#sk-container-id-1 div.sk-estimator:hover label.sk-toggleable__label-arrow:before {color: black;}#sk-container-id-1 div.sk-toggleable__content {max-height: 0;max-width: 0;overflow: hidden;text-align: left;background-color: #f0f8ff;}#sk-container-id-1 div.sk-toggleable__content pre {margin: 0.2em;color: black;border-radius: 0.25em;background-color: #f0f8ff;}#sk-container-id-1 input.sk-toggleable__control:checked~div.sk-toggleable__content {max-height: 200px;max-width: 100%;overflow: auto;}#sk-container-id-1 input.sk-toggleable__control:checked~label.sk-toggleable__label-arrow:before {content: \"▾\";}#sk-container-id-1 div.sk-estimator input.sk-toggleable__control:checked~label.sk-toggleable__label {background-color: #d4ebff;}#sk-container-id-1 div.sk-label input.sk-toggleable__control:checked~label.sk-toggleable__label {background-color: #d4ebff;}#sk-container-id-1 input.sk-hidden--visually {border: 0;clip: rect(1px 1px 1px 1px);clip: rect(1px, 1px, 1px, 1px);height: 1px;margin: -1px;overflow: hidden;padding: 0;position: absolute;width: 1px;}#sk-container-id-1 div.sk-estimator {font-family: monospace;background-color: #f0f8ff;border: 1px dotted black;border-radius: 0.25em;box-sizing: border-box;margin-bottom: 0.5em;}#sk-container-id-1 div.sk-estimator:hover {background-color: #d4ebff;}#sk-container-id-1 div.sk-parallel-item::after {content: \"\";width: 100%;border-bottom: 1px solid gray;flex-grow: 1;}#sk-container-id-1 div.sk-label:hover label.sk-toggleable__label {background-color: #d4ebff;}#sk-container-id-1 div.sk-serial::before {content: \"\";position: absolute;border-left: 1px solid gray;box-sizing: border-box;top: 0;bottom: 0;left: 50%;z-index: 0;}#sk-container-id-1 div.sk-serial {display: flex;flex-direction: column;align-items: center;background-color: white;padding-right: 0.2em;padding-left: 0.2em;position: relative;}#sk-container-id-1 div.sk-item {position: relative;z-index: 1;}#sk-container-id-1 div.sk-parallel {display: flex;align-items: stretch;justify-content: center;background-color: white;position: relative;}#sk-container-id-1 div.sk-item::before, #sk-container-id-1 div.sk-parallel-item::before {content: \"\";position: absolute;border-left: 1px solid gray;box-sizing: border-box;top: 0;bottom: 0;left: 50%;z-index: -1;}#sk-container-id-1 div.sk-parallel-item {display: flex;flex-direction: column;z-index: 1;position: relative;background-color: white;}#sk-container-id-1 div.sk-parallel-item:first-child::after {align-self: flex-end;width: 50%;}#sk-container-id-1 div.sk-parallel-item:last-child::after {align-self: flex-start;width: 50%;}#sk-container-id-1 div.sk-parallel-item:only-child::after {width: 0;}#sk-container-id-1 div.sk-dashed-wrapped {border: 1px dashed gray;margin: 0 0.4em 0.5em 0.4em;box-sizing: border-box;padding-bottom: 0.4em;background-color: white;}#sk-container-id-1 div.sk-label label {font-family: monospace;font-weight: bold;display: inline-block;line-height: 1.2em;}#sk-container-id-1 div.sk-label-container {text-align: center;}#sk-container-id-1 div.sk-container {/* jupyter's `normalize.less` sets `[hidden] { display: none; }` but bootstrap.min.css set `[hidden] { display: none !important; }` so we also need the `!important` here to be able to override the default hidden behavior on the sphinx rendered scikit-learn.org. See: https://github.com/scikit-learn/scikit-learn/issues/21755 */display: inline-block !important;position: relative;}#sk-container-id-1 div.sk-text-repr-fallback {display: none;}</style><div id=\"sk-container-id-1\" class=\"sk-top-container\"><div class=\"sk-text-repr-fallback\"><pre>DecisionTreeClassifier()</pre><b>In a Jupyter environment, please rerun this cell to show the HTML representation or trust the notebook. <br />On GitHub, the HTML representation is unable to render, please try loading this page with nbviewer.org.</b></div><div class=\"sk-container\" hidden><div class=\"sk-item\"><div class=\"sk-estimator sk-toggleable\"><input class=\"sk-toggleable__control sk-hidden--visually\" id=\"sk-estimator-id-1\" type=\"checkbox\" checked><label for=\"sk-estimator-id-1\" class=\"sk-toggleable__label sk-toggleable__label-arrow\">DecisionTreeClassifier</label><div class=\"sk-toggleable__content\"><pre>DecisionTreeClassifier()</pre></div></div></div></div></div>"
      ],
      "text/plain": [
       "DecisionTreeClassifier()"
      ]
     },
     "execution_count": 25,
     "metadata": {},
     "output_type": "execute_result"
    }
   ],
   "source": [
    "DTmodel"
   ]
  },
  {
   "cell_type": "code",
   "execution_count": 26,
   "id": "e53522bf",
   "metadata": {},
   "outputs": [
    {
     "data": {
      "text/html": [
       "<style>#sk-container-id-2 {color: black;background-color: white;}#sk-container-id-2 pre{padding: 0;}#sk-container-id-2 div.sk-toggleable {background-color: white;}#sk-container-id-2 label.sk-toggleable__label {cursor: pointer;display: block;width: 100%;margin-bottom: 0;padding: 0.3em;box-sizing: border-box;text-align: center;}#sk-container-id-2 label.sk-toggleable__label-arrow:before {content: \"▸\";float: left;margin-right: 0.25em;color: #696969;}#sk-container-id-2 label.sk-toggleable__label-arrow:hover:before {color: black;}#sk-container-id-2 div.sk-estimator:hover label.sk-toggleable__label-arrow:before {color: black;}#sk-container-id-2 div.sk-toggleable__content {max-height: 0;max-width: 0;overflow: hidden;text-align: left;background-color: #f0f8ff;}#sk-container-id-2 div.sk-toggleable__content pre {margin: 0.2em;color: black;border-radius: 0.25em;background-color: #f0f8ff;}#sk-container-id-2 input.sk-toggleable__control:checked~div.sk-toggleable__content {max-height: 200px;max-width: 100%;overflow: auto;}#sk-container-id-2 input.sk-toggleable__control:checked~label.sk-toggleable__label-arrow:before {content: \"▾\";}#sk-container-id-2 div.sk-estimator input.sk-toggleable__control:checked~label.sk-toggleable__label {background-color: #d4ebff;}#sk-container-id-2 div.sk-label input.sk-toggleable__control:checked~label.sk-toggleable__label {background-color: #d4ebff;}#sk-container-id-2 input.sk-hidden--visually {border: 0;clip: rect(1px 1px 1px 1px);clip: rect(1px, 1px, 1px, 1px);height: 1px;margin: -1px;overflow: hidden;padding: 0;position: absolute;width: 1px;}#sk-container-id-2 div.sk-estimator {font-family: monospace;background-color: #f0f8ff;border: 1px dotted black;border-radius: 0.25em;box-sizing: border-box;margin-bottom: 0.5em;}#sk-container-id-2 div.sk-estimator:hover {background-color: #d4ebff;}#sk-container-id-2 div.sk-parallel-item::after {content: \"\";width: 100%;border-bottom: 1px solid gray;flex-grow: 1;}#sk-container-id-2 div.sk-label:hover label.sk-toggleable__label {background-color: #d4ebff;}#sk-container-id-2 div.sk-serial::before {content: \"\";position: absolute;border-left: 1px solid gray;box-sizing: border-box;top: 0;bottom: 0;left: 50%;z-index: 0;}#sk-container-id-2 div.sk-serial {display: flex;flex-direction: column;align-items: center;background-color: white;padding-right: 0.2em;padding-left: 0.2em;position: relative;}#sk-container-id-2 div.sk-item {position: relative;z-index: 1;}#sk-container-id-2 div.sk-parallel {display: flex;align-items: stretch;justify-content: center;background-color: white;position: relative;}#sk-container-id-2 div.sk-item::before, #sk-container-id-2 div.sk-parallel-item::before {content: \"\";position: absolute;border-left: 1px solid gray;box-sizing: border-box;top: 0;bottom: 0;left: 50%;z-index: -1;}#sk-container-id-2 div.sk-parallel-item {display: flex;flex-direction: column;z-index: 1;position: relative;background-color: white;}#sk-container-id-2 div.sk-parallel-item:first-child::after {align-self: flex-end;width: 50%;}#sk-container-id-2 div.sk-parallel-item:last-child::after {align-self: flex-start;width: 50%;}#sk-container-id-2 div.sk-parallel-item:only-child::after {width: 0;}#sk-container-id-2 div.sk-dashed-wrapped {border: 1px dashed gray;margin: 0 0.4em 0.5em 0.4em;box-sizing: border-box;padding-bottom: 0.4em;background-color: white;}#sk-container-id-2 div.sk-label label {font-family: monospace;font-weight: bold;display: inline-block;line-height: 1.2em;}#sk-container-id-2 div.sk-label-container {text-align: center;}#sk-container-id-2 div.sk-container {/* jupyter's `normalize.less` sets `[hidden] { display: none; }` but bootstrap.min.css set `[hidden] { display: none !important; }` so we also need the `!important` here to be able to override the default hidden behavior on the sphinx rendered scikit-learn.org. See: https://github.com/scikit-learn/scikit-learn/issues/21755 */display: inline-block !important;position: relative;}#sk-container-id-2 div.sk-text-repr-fallback {display: none;}</style><div id=\"sk-container-id-2\" class=\"sk-top-container\"><div class=\"sk-text-repr-fallback\"><pre>DecisionTreeClassifier()</pre><b>In a Jupyter environment, please rerun this cell to show the HTML representation or trust the notebook. <br />On GitHub, the HTML representation is unable to render, please try loading this page with nbviewer.org.</b></div><div class=\"sk-container\" hidden><div class=\"sk-item\"><div class=\"sk-estimator sk-toggleable\"><input class=\"sk-toggleable__control sk-hidden--visually\" id=\"sk-estimator-id-2\" type=\"checkbox\" checked><label for=\"sk-estimator-id-2\" class=\"sk-toggleable__label sk-toggleable__label-arrow\">DecisionTreeClassifier</label><div class=\"sk-toggleable__content\"><pre>DecisionTreeClassifier()</pre></div></div></div></div></div>"
      ],
      "text/plain": [
       "DecisionTreeClassifier()"
      ]
     },
     "execution_count": 26,
     "metadata": {},
     "output_type": "execute_result"
    }
   ],
   "source": [
    "#train the model\n",
    "DTmodel.fit(X_train, y_train)"
   ]
  },
  {
   "cell_type": "code",
   "execution_count": 27,
   "id": "a0dfdda2",
   "metadata": {},
   "outputs": [
    {
     "data": {
      "text/plain": [
       "array([0, 0, 0, 0, 0, 0, 1, 0, 0, 0, 0, 0, 0, 0, 0, 0, 0, 0, 1, 0, 0, 0,\n",
       "       0, 0, 0, 1, 0, 0, 0, 0, 1, 1, 1, 1, 1, 0, 1, 0, 0, 1, 0, 0, 0, 1,\n",
       "       1, 1, 0, 1, 1, 1, 1, 0, 1, 0, 0, 0, 0, 0, 0, 1, 1, 0, 0, 1, 0, 0,\n",
       "       1, 0, 1, 1, 0, 0, 0, 0, 1, 1, 0, 0, 1, 0, 0, 0, 1, 1, 1, 1, 1, 1,\n",
       "       0, 1, 1, 1, 1, 0, 0, 1, 0, 0, 1, 0, 1, 1, 0, 0, 0, 0, 0, 1, 0, 1,\n",
       "       1, 1, 1, 1, 0, 1, 0, 1, 1, 1, 0, 1, 0, 0, 0, 0, 0, 1, 0, 0, 1, 0,\n",
       "       0, 0, 0, 0, 1, 0, 1, 1, 0, 0, 0, 0, 0, 0, 0, 0, 0, 0], dtype=int64)"
      ]
     },
     "execution_count": 27,
     "metadata": {},
     "output_type": "execute_result"
    }
   ],
   "source": [
    "#view the predicted outcomes of the model\n",
    "y_predDT = DTmodel.predict(X_test)\n",
    "y_predDT"
   ]
  },
  {
   "cell_type": "code",
   "execution_count": 28,
   "id": "a3f6ca60",
   "metadata": {},
   "outputs": [],
   "source": [
    "from sklearn import metrics"
   ]
  },
  {
   "cell_type": "code",
   "execution_count": 29,
   "id": "2bfd9ecf",
   "metadata": {},
   "outputs": [
    {
     "data": {
      "text/plain": [
       "0.9933333333333333"
      ]
     },
     "execution_count": 29,
     "metadata": {},
     "output_type": "execute_result"
    }
   ],
   "source": [
    "accDT = metrics.accuracy_score(y_test, y_predDT)\n",
    "accDT"
   ]
  },
  {
   "cell_type": "code",
   "execution_count": 30,
   "id": "464e28e3",
   "metadata": {},
   "outputs": [
    {
     "data": {
      "text/plain": [
       "1.0"
      ]
     },
     "execution_count": 30,
     "metadata": {},
     "output_type": "execute_result"
    }
   ],
   "source": [
    "precDT = metrics.precision_score(y_test, y_predDT)\n",
    "precDT"
   ]
  },
  {
   "cell_type": "code",
   "execution_count": 31,
   "id": "c121f88c",
   "metadata": {},
   "outputs": [
    {
     "data": {
      "text/plain": [
       "0.9827586206896551"
      ]
     },
     "execution_count": 31,
     "metadata": {},
     "output_type": "execute_result"
    }
   ],
   "source": [
    "recDT = metrics.recall_score(y_test, y_predDT)\n",
    "recDT"
   ]
  },
  {
   "cell_type": "code",
   "execution_count": 32,
   "id": "b8fc4219",
   "metadata": {},
   "outputs": [
    {
     "data": {
      "text/plain": [
       "0.9913793103448276"
      ]
     },
     "execution_count": 32,
     "metadata": {},
     "output_type": "execute_result"
    }
   ],
   "source": [
    "rocDT = metrics.roc_auc_score(y_test, y_predDT)\n",
    "rocDT"
   ]
  },
  {
   "cell_type": "code",
   "execution_count": 33,
   "id": "e6e06f66",
   "metadata": {},
   "outputs": [
    {
     "data": {
      "text/plain": [
       "0.9913043478260869"
      ]
     },
     "execution_count": 33,
     "metadata": {},
     "output_type": "execute_result"
    }
   ],
   "source": [
    "f1_scoreDT = metrics.f1_score(y_test, y_predDT)\n",
    "f1_scoreDT"
   ]
  },
  {
   "cell_type": "code",
   "execution_count": 34,
   "id": "53ef054d",
   "metadata": {},
   "outputs": [
    {
     "data": {
      "text/plain": [
       "array([[92,  0],\n",
       "       [ 1, 57]], dtype=int64)"
      ]
     },
     "execution_count": 34,
     "metadata": {},
     "output_type": "execute_result"
    }
   ],
   "source": [
    "cmDT = metrics.confusion_matrix(y_test, y_predDT)\n",
    "cmDT"
   ]
  },
  {
   "cell_type": "code",
   "execution_count": 35,
   "id": "9e8c6725",
   "metadata": {},
   "outputs": [
    {
     "name": "stdout",
     "output_type": "stream",
     "text": [
      "Classification Report:\n",
      "\n",
      "              precision    recall  f1-score   support\n",
      "\n",
      "           0       0.99      1.00      0.99        92\n",
      "           1       1.00      0.98      0.99        58\n",
      "\n",
      "    accuracy                           0.99       150\n",
      "   macro avg       0.99      0.99      0.99       150\n",
      "weighted avg       0.99      0.99      0.99       150\n",
      "\n"
     ]
    }
   ],
   "source": [
    "#view the classification report\n",
    "result_DT = metrics.classification_report(y_test, y_predDT)\n",
    "print('Classification Report:\\n')\n",
    "print(result_DT)"
   ]
  },
  {
   "cell_type": "code",
   "execution_count": 38,
   "id": "56e7d15c",
   "metadata": {},
   "outputs": [
    {
     "data": {
      "image/png": "[encoded data removed]",
      "text/plain": [
       "<Figure size 640x480 with 2 Axes>"
      ]
     },
     "metadata": {},
     "output_type": "display_data"
    }
   ],
   "source": [
    "#visualize the confusion matrix\n",
    "ax = sns.heatmap(cmDT, cmap = 'flare', annot= True, fmt = 'd')\n",
    "plt.xlabel('Predicted Class', fontsize = 12)\n",
    "plt.ylabel('True Class', fontsize = 12)\n",
    "plt.title('Confusion Matrix', fontsize = 12)\n",
    "plt.show()"
   ]
  },
  {
   "cell_type": "code",
   "execution_count": 39,
   "id": "c74e1d50",
   "metadata": {},
   "outputs": [
    {
     "name": "stdout",
     "output_type": "stream",
     "text": [
      "Training Accuracy: 1.0\n",
      "Test Accuracy: 0.9933333333333333\n"
     ]
    }
   ],
   "source": [
    "#Make predictions based on the training set\n",
    "y_train_predDT = DTmodel.predict(X_train)\n",
    "\n",
    "#Make predictions based on the test set\n",
    "y_test_predDT = DTmodel.predict(X_test)\n",
    "\n",
    "#Calculate the accuracy of the training set\n",
    "acc_trainDT = metrics.accuracy_score(y_train, y_train_predDT)\n",
    "\n",
    "#Calculate the accuracy of the test set\n",
    "acc_testDT = metrics.accuracy_score(y_test, y_test_predDT)\n",
    "\n",
    "print('Training Accuracy:', acc_trainDT)\n",
    "print('Test Accuracy:', acc_testDT)"
   ]
  },
  {
   "cell_type": "code",
   "execution_count": 40,
   "id": "7132afcb",
   "metadata": {},
   "outputs": [],
   "source": [
    "#initiate the random forest classifier\n",
    "RFmodel = RandomForestClassifier()"
   ]
  },
  {
   "cell_type": "code",
   "execution_count": 41,
   "id": "8a708a4a",
   "metadata": {},
   "outputs": [
    {
     "data": {
      "text/html": [
       "<style>#sk-container-id-3 {color: black;background-color: white;}#sk-container-id-3 pre{padding: 0;}#sk-container-id-3 div.sk-toggleable {background-color: white;}#sk-container-id-3 label.sk-toggleable__label {cursor: pointer;display: block;width: 100%;margin-bottom: 0;padding: 0.3em;box-sizing: border-box;text-align: center;}#sk-container-id-3 label.sk-toggleable__label-arrow:before {content: \"▸\";float: left;margin-right: 0.25em;color: #696969;}#sk-container-id-3 label.sk-toggleable__label-arrow:hover:before {color: black;}#sk-container-id-3 div.sk-estimator:hover label.sk-toggleable__label-arrow:before {color: black;}#sk-container-id-3 div.sk-toggleable__content {max-height: 0;max-width: 0;overflow: hidden;text-align: left;background-color: #f0f8ff;}#sk-container-id-3 div.sk-toggleable__content pre {margin: 0.2em;color: black;border-radius: 0.25em;background-color: #f0f8ff;}#sk-container-id-3 input.sk-toggleable__control:checked~div.sk-toggleable__content {max-height: 200px;max-width: 100%;overflow: auto;}#sk-container-id-3 input.sk-toggleable__control:checked~label.sk-toggleable__label-arrow:before {content: \"▾\";}#sk-container-id-3 div.sk-estimator input.sk-toggleable__control:checked~label.sk-toggleable__label {background-color: #d4ebff;}#sk-container-id-3 div.sk-label input.sk-toggleable__control:checked~label.sk-toggleable__label {background-color: #d4ebff;}#sk-container-id-3 input.sk-hidden--visually {border: 0;clip: rect(1px 1px 1px 1px);clip: rect(1px, 1px, 1px, 1px);height: 1px;margin: -1px;overflow: hidden;padding: 0;position: absolute;width: 1px;}#sk-container-id-3 div.sk-estimator {font-family: monospace;background-color: #f0f8ff;border: 1px dotted black;border-radius: 0.25em;box-sizing: border-box;margin-bottom: 0.5em;}#sk-container-id-3 div.sk-estimator:hover {background-color: #d4ebff;}#sk-container-id-3 div.sk-parallel-item::after {content: \"\";width: 100%;border-bottom: 1px solid gray;flex-grow: 1;}#sk-container-id-3 div.sk-label:hover label.sk-toggleable__label {background-color: #d4ebff;}#sk-container-id-3 div.sk-serial::before {content: \"\";position: absolute;border-left: 1px solid gray;box-sizing: border-box;top: 0;bottom: 0;left: 50%;z-index: 0;}#sk-container-id-3 div.sk-serial {display: flex;flex-direction: column;align-items: center;background-color: white;padding-right: 0.2em;padding-left: 0.2em;position: relative;}#sk-container-id-3 div.sk-item {position: relative;z-index: 1;}#sk-container-id-3 div.sk-parallel {display: flex;align-items: stretch;justify-content: center;background-color: white;position: relative;}#sk-container-id-3 div.sk-item::before, #sk-container-id-3 div.sk-parallel-item::before {content: \"\";position: absolute;border-left: 1px solid gray;box-sizing: border-box;top: 0;bottom: 0;left: 50%;z-index: -1;}#sk-container-id-3 div.sk-parallel-item {display: flex;flex-direction: column;z-index: 1;position: relative;background-color: white;}#sk-container-id-3 div.sk-parallel-item:first-child::after {align-self: flex-end;width: 50%;}#sk-container-id-3 div.sk-parallel-item:last-child::after {align-self: flex-start;width: 50%;}#sk-container-id-3 div.sk-parallel-item:only-child::after {width: 0;}#sk-container-id-3 div.sk-dashed-wrapped {border: 1px dashed gray;margin: 0 0.4em 0.5em 0.4em;box-sizing: border-box;padding-bottom: 0.4em;background-color: white;}#sk-container-id-3 div.sk-label label {font-family: monospace;font-weight: bold;display: inline-block;line-height: 1.2em;}#sk-container-id-3 div.sk-label-container {text-align: center;}#sk-container-id-3 div.sk-container {/* jupyter's `normalize.less` sets `[hidden] { display: none; }` but bootstrap.min.css set `[hidden] { display: none !important; }` so we also need the `!important` here to be able to override the default hidden behavior on the sphinx rendered scikit-learn.org. See: https://github.com/scikit-learn/scikit-learn/issues/21755 */display: inline-block !important;position: relative;}#sk-container-id-3 div.sk-text-repr-fallback {display: none;}</style><div id=\"sk-container-id-3\" class=\"sk-top-container\"><div class=\"sk-text-repr-fallback\"><pre>RandomForestClassifier()</pre><b>In a Jupyter environment, please rerun this cell to show the HTML representation or trust the notebook. <br />On GitHub, the HTML representation is unable to render, please try loading this page with nbviewer.org.</b></div><div class=\"sk-container\" hidden><div class=\"sk-item\"><div class=\"sk-estimator sk-toggleable\"><input class=\"sk-toggleable__control sk-hidden--visually\" id=\"sk-estimator-id-3\" type=\"checkbox\" checked><label for=\"sk-estimator-id-3\" class=\"sk-toggleable__label sk-toggleable__label-arrow\">RandomForestClassifier</label><div class=\"sk-toggleable__content\"><pre>RandomForestClassifier()</pre></div></div></div></div></div>"
      ],
      "text/plain": [
       "RandomForestClassifier()"
      ]
     },
     "execution_count": 41,
     "metadata": {},
     "output_type": "execute_result"
    }
   ],
   "source": [
    "#train the random forest classifier\n",
    "RFmodel.fit(X_train, y_train)"
   ]
  },
  {
   "cell_type": "code",
   "execution_count": 42,
   "id": "1c344d59",
   "metadata": {},
   "outputs": [
    {
     "data": {
      "text/plain": [
       "array([0, 0, 0, 0, 0, 0, 1, 0, 0, 0, 0, 0, 0, 0, 0, 0, 0, 0, 1, 0, 0, 0,\n",
       "       0, 0, 0, 1, 0, 0, 0, 0, 1, 1, 1, 1, 1, 0, 1, 0, 0, 1, 0, 0, 0, 1,\n",
       "       1, 1, 0, 1, 1, 1, 1, 0, 1, 0, 0, 0, 0, 0, 0, 1, 1, 0, 0, 1, 0, 0,\n",
       "       1, 0, 1, 1, 0, 0, 0, 0, 1, 1, 0, 0, 1, 0, 0, 0, 1, 1, 1, 1, 1, 1,\n",
       "       0, 1, 1, 1, 1, 0, 0, 1, 0, 0, 1, 0, 1, 1, 0, 0, 0, 0, 0, 1, 0, 1,\n",
       "       1, 1, 1, 1, 0, 1, 0, 1, 1, 1, 0, 1, 0, 0, 0, 0, 0, 1, 0, 0, 1, 0,\n",
       "       0, 0, 0, 0, 1, 0, 1, 1, 0, 0, 0, 0, 0, 0, 0, 0, 0, 0], dtype=int64)"
      ]
     },
     "execution_count": 42,
     "metadata": {},
     "output_type": "execute_result"
    }
   ],
   "source": [
    "#view the predicted outcomes of the model\n",
    "y_predRF = RFmodel.predict(X_test)\n",
    "y_predRF"
   ]
  },
  {
   "cell_type": "code",
   "execution_count": 43,
   "id": "c48ddd51",
   "metadata": {},
   "outputs": [
    {
     "data": {
      "text/plain": [
       "0.9933333333333333"
      ]
     },
     "execution_count": 43,
     "metadata": {},
     "output_type": "execute_result"
    }
   ],
   "source": [
    "accRF = metrics.accuracy_score(y_test, y_predRF)\n",
    "accRF"
   ]
  },
  {
   "cell_type": "code",
   "execution_count": 44,
   "id": "9f3fe4e1",
   "metadata": {},
   "outputs": [
    {
     "data": {
      "text/plain": [
       "1.0"
      ]
     },
     "execution_count": 44,
     "metadata": {},
     "output_type": "execute_result"
    }
   ],
   "source": [
    "precRF = metrics.precision_score(y_test, y_predRF)\n",
    "precRF"
   ]
  },
  {
   "cell_type": "code",
   "execution_count": 45,
   "id": "43c84719",
   "metadata": {},
   "outputs": [
    {
     "data": {
      "text/plain": [
       "0.9827586206896551"
      ]
     },
     "execution_count": 45,
     "metadata": {},
     "output_type": "execute_result"
    }
   ],
   "source": [
    "recRF = metrics.recall_score(y_test, y_predRF)\n",
    "recRF"
   ]
  },
  {
   "cell_type": "code",
   "execution_count": 46,
   "id": "8b5955f0",
   "metadata": {},
   "outputs": [
    {
     "data": {
      "text/plain": [
       "0.9913793103448276"
      ]
     },
     "execution_count": 46,
     "metadata": {},
     "output_type": "execute_result"
    }
   ],
   "source": [
    "ROCRF = metrics.roc_auc_score(y_test, y_predRF)\n",
    "ROCRF"
   ]
  },
  {
   "cell_type": "code",
   "execution_count": null,
   "id": "4fb7d230",
   "metadata": {},
   "outputs": [],
   "source": []
  }
 ],
 "metadata": {
  "kernelspec": {
   "display_name": "Python 3 (ipykernel)",
   "language": "python",
   "name": "python3"
  },
  "language_info": {
   "codemirror_mode": {
    "name": "ipython",
    "version": 3
   },
   "file_extension": ".py",
   "mimetype": "text/x-python",
   "name": "python",
   "nbconvert_exporter": "python",
   "pygments_lexer": "ipython3",
   "version": "3.11.4"
  }
 },
 "nbformat": 4,
 "nbformat_minor": 5
}
